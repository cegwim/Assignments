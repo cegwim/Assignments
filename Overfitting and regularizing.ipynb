{
 "cells": [
  {
   "cell_type": "code",
   "execution_count": 21,
   "metadata": {},
   "outputs": [],
   "source": [
    "import matplotlib.pyplot as plt\n",
    "import numpy as np\n",
    "import pandas as pd\n",
    "from sklearn.linear_model import LinearRegression\n",
    "from sklearn.linear_model import Ridge\n",
    "from sklearn.linear_model import Lasso\n",
    "from sklearn.linear_model import ElasticNet\n",
    "from sklearn.model_selection import GridSearchCV\n",
    "from sklearn.model_selection import train_test_split\n",
    "from sklearn.metrics import mean_absolute_error\n",
    "from statsmodels.tools.eval_measures import mse, rmse\n",
    "from sqlalchemy import create_engine\n",
    "import statsmodels.api as sm\n",
    "# Display preferences.\n",
    "%matplotlib inline\n",
    "pd.options.display.float_format = '{:.3f}'.format\n",
    "\n",
    "import warnings\n",
    "warnings.filterwarnings(action=\"ignore\")"
   ]
  },
  {
   "cell_type": "markdown",
   "metadata": {},
   "source": [
    "Load the houseprices data from Thinkful's database."
   ]
  },
  {
   "cell_type": "code",
   "execution_count": 2,
   "metadata": {},
   "outputs": [],
   "source": [
    "\n",
    "postgres_user = 'dsbc_student'\n",
    "postgres_pw = '7*.8G9QH21'\n",
    "postgres_host = '142.93.121.174'\n",
    "postgres_port = '5432'\n",
    "postgres_db = 'houseprices'\n",
    "\n",
    "\n",
    "engine = create_engine('postgresql://{}:{}@{}:{}/{}'.format(\n",
    "    postgres_user, postgres_pw, postgres_host, postgres_port, postgres_db))\n",
    "\n",
    "df = pd.read_sql_query('select * from houseprices',con=engine)\n",
    "\n",
    "engine.dispose()\n",
    "\n",
    "df_nm = df.select_dtypes(['int64', 'float64'])\n",
    "df_nm.dropna(inplace = True)"
   ]
  },
  {
   "cell_type": "markdown",
   "metadata": {},
   "source": [
    "Reimplement your model from the previous checkpoint."
   ]
  },
  {
   "cell_type": "code",
   "execution_count": 51,
   "metadata": {},
   "outputs": [],
   "source": [
    "insig = ['id','saleprice', 'yearremodadd', 'firstflrsf','secondflrsf','fireplaces', 'lowqualfinsf', 'bsmthalfbath',\n",
    "         'fullbath','poolarea', 'screenporch','bsmtfullbath','halfbath', 'garageyrblt', 'garagearea', 'miscval', 'mosold', 'yrsold']\n",
    "X = df_nm.drop(columns = insig)\n",
    "y = df_nm['saleprice']\n",
    "\n",
    "X_train, X_test, y_train, y_test = train_test_split(X, y)"
   ]
  },
  {
   "cell_type": "code",
   "execution_count": 52,
   "metadata": {},
   "outputs": [
    {
     "data": {
      "text/plain": [
       "Index(['mssubclass', 'lotfrontage', 'lotarea', 'overallqual', 'overallcond',\n",
       "       'yearbuilt', 'masvnrarea', 'bsmtfinsf1', 'bsmtfinsf2', 'bsmtunfsf',\n",
       "       'totalbsmtsf', 'grlivarea', 'bedroomabvgr', 'kitchenabvgr',\n",
       "       'totrmsabvgrd', 'garagecars', 'wooddecksf', 'openporchsf',\n",
       "       'enclosedporch', 'threessnporch'],\n",
       "      dtype='object')"
      ]
     },
     "execution_count": 52,
     "metadata": {},
     "output_type": "execute_result"
    }
   ],
   "source": [
    "X.columns"
   ]
  },
  {
   "cell_type": "markdown",
   "metadata": {},
   "source": [
    "Try OLS, Lasso, Ridge, and ElasticNet regression using the same model specification. This time, you need to do k-fold cross-validation to choose the best hyperparameter values for your models. Scikit-learn has RidgeCV, LassoCV, and ElasticNetCV that you can utilize to do this. Which model is the best? Why?\n",
    "\n",
    "ElasticNet regression performed the best and had the lowest error percentage."
   ]
  },
  {
   "cell_type": "code",
   "execution_count": 53,
   "metadata": {},
   "outputs": [
    {
     "name": "stdout",
     "output_type": "stream",
     "text": [
      "0.7926094517401946\n",
      "0.8319988762205055\n"
     ]
    }
   ],
   "source": [
    "lrm = LinearRegression()\n",
    "lrm.fit(X_train, y_train)\n",
    "\n",
    "y_pred_train = lrm.predict(X_train)\n",
    "y_pred_test = lrm.predict(X_test)\n",
    "\n",
    "print(lrm.score(X_train, y_train))\n",
    "print(lrm.score(X_test, y_test))"
   ]
  },
  {
   "cell_type": "code",
   "execution_count": 64,
   "metadata": {},
   "outputs": [
    {
     "name": "stdout",
     "output_type": "stream",
     "text": [
      "R-squared of the model in the training set is: 0.7926094517401946\n",
      "-----Test set statistics-----\n",
      "R-squared of the model in the test set is: 0.8319988762205055\n",
      "Mean absolute error of the prediction is: 22885.962563091187\n",
      "Mean squared error of the prediction is: 1069008590.9708884\n",
      "Root mean squared error of the prediction is: 32695.696826507436\n",
      "Mean absolute percentage error of the prediction is: 13.673604994929384\n"
     ]
    }
   ],
   "source": [
    "print(\"R-squared of the model in the training set is: {}\".format(lrm.score(X_train, y_train)))\n",
    "print(\"-----Test set statistics-----\")\n",
    "print(\"R-squared of the model in the test set is: {}\".format(lrm.score(X_test, y_test)))\n",
    "print(\"Mean absolute error of the prediction is: {}\".format(mean_absolute_error(y_test, y_pred_test)))\n",
    "print(\"Mean squared error of the prediction is: {}\".format(mse(y_test, y_pred_test)))\n",
    "print(\"Root mean squared error of the prediction is: {}\".format(rmse(y_test, y_pred_test)))\n",
    "print(\"Mean absolute percentage error of the prediction is: {}\".format(np.mean(np.abs((y_test - y_pred_test) / y_test)) * 100))"
   ]
  },
  {
   "cell_type": "code",
   "execution_count": 56,
   "metadata": {},
   "outputs": [
    {
     "name": "stdout",
     "output_type": "stream",
     "text": [
      "0.7924578266733321\n",
      "0.8310014114942595\n"
     ]
    }
   ],
   "source": [
    "rr = Ridge(alpha = 10)\n",
    "rr.fit(X_train, y_train)\n",
    "\n",
    "ry_pred_train = rr.predict(X_train)\n",
    "ry_pred_test = rr.predict(X_test)\n",
    "\n",
    "print(rr.score(X_train, y_train))\n",
    "print(rr.score(X_test, y_test))"
   ]
  },
  {
   "cell_type": "code",
   "execution_count": 65,
   "metadata": {},
   "outputs": [
    {
     "name": "stdout",
     "output_type": "stream",
     "text": [
      "R-squared of the model in the training set is: 0.7924578266733321\n",
      "-----Test set statistics-----\n",
      "R-squared of the model in the test set is: 0.8310014114942595\n",
      "Mean absolute error of the prediction is: 22866.519768324746\n",
      "Mean squared error of the prediction is: 1075355562.571786\n",
      "Root mean squared error of the prediction is: 32792.61445160764\n",
      "Mean absolute percentage error of the prediction is: 13.642620513213242\n"
     ]
    }
   ],
   "source": [
    "print(\"R-squared of the model in the training set is: {}\".format(rr.score(X_train, y_train)))\n",
    "print(\"-----Test set statistics-----\")\n",
    "print(\"R-squared of the model in the test set is: {}\".format(rr.score(X_test, y_test)))\n",
    "print(\"Mean absolute error of the prediction is: {}\".format(mean_absolute_error(y_test, ry_pred_test)))\n",
    "print(\"Mean squared error of the prediction is: {}\".format(mse(y_test, ry_pred_test)))\n",
    "print(\"Root mean squared error of the prediction is: {}\".format(rmse(y_test, ry_pred_test)))\n",
    "print(\"Mean absolute percentage error of the prediction is: {}\".format(np.mean(np.abs((y_test - ry_pred_test) / y_test)) * 100))"
   ]
  },
  {
   "cell_type": "code",
   "execution_count": 55,
   "metadata": {},
   "outputs": [
    {
     "name": "stdout",
     "output_type": "stream",
     "text": [
      "0.747369277324341\n",
      "10\n"
     ]
    }
   ],
   "source": [
    "tuned_param = [{'alpha' : [1, 5, 10, 50, 100, 1000, 10000, 100000]}]\n",
    "clf = GridSearchCV(Ridge(), param_grid = tuned_param, cv = 5)\n",
    "clf.fit(X_train, y_train)\n",
    "print(clf.best_score_)\n",
    "print(clf.best_estimator_.alpha)"
   ]
  },
  {
   "cell_type": "code",
   "execution_count": 59,
   "metadata": {},
   "outputs": [
    {
     "name": "stdout",
     "output_type": "stream",
     "text": [
      "0.7925444324463121\n",
      "0.8315984731474095\n"
     ]
    }
   ],
   "source": [
    "lr = Lasso(alpha = 100)\n",
    "lr.fit(X_train, y_train)\n",
    "\n",
    "ly_pred_train = lr.predict(X_train)\n",
    "ly_pred_test = lr.predict(X_test)\n",
    "\n",
    "print(lr.score(X_train, y_train))\n",
    "print(lr.score(X_test, y_test))"
   ]
  },
  {
   "cell_type": "code",
   "execution_count": 66,
   "metadata": {},
   "outputs": [
    {
     "name": "stdout",
     "output_type": "stream",
     "text": [
      "R-squared of the model in the training set is: 0.7925444324463121\n",
      "-----Test set statistics-----\n",
      "R-squared of the model in the test set is: 0.8315984731474095\n",
      "Mean absolute error of the prediction is: 22858.216167263938\n",
      "Mean squared error of the prediction is: 1071556397.2912354\n",
      "Root mean squared error of the prediction is: 32734.636049469613\n",
      "Mean absolute percentage error of the prediction is: 13.646419693245779\n"
     ]
    }
   ],
   "source": [
    "print(\"R-squared of the model in the training set is: {}\".format(lr.score(X_train, y_train)))\n",
    "print(\"-----Test set statistics-----\")\n",
    "print(\"R-squared of the model in the test set is: {}\".format(lr.score(X_test, y_test)))\n",
    "print(\"Mean absolute error of the prediction is: {}\".format(mean_absolute_error(y_test, ly_pred_test)))\n",
    "print(\"Mean squared error of the prediction is: {}\".format(mse(y_test, ly_pred_test)))\n",
    "print(\"Root mean squared error of the prediction is: {}\".format(rmse(y_test, ly_pred_test)))\n",
    "print(\"Mean absolute percentage error of the prediction is: {}\".format(np.mean(np.abs((y_test - ly_pred_test) / y_test)) * 100))"
   ]
  },
  {
   "cell_type": "code",
   "execution_count": 60,
   "metadata": {},
   "outputs": [
    {
     "name": "stdout",
     "output_type": "stream",
     "text": [
      "0.7469314574819985\n",
      "100\n"
     ]
    }
   ],
   "source": [
    "tuned_param = [{'alpha' : [1, 5, 10, 50, 100, 1000, 10000, 100000]}]\n",
    "clf1 = GridSearchCV(Lasso(), param_grid = tuned_param, cv = 5)\n",
    "clf1.fit(X_train, y_train)\n",
    "print(clf1.best_score_)\n",
    "print(clf1.best_estimator_.alpha)"
   ]
  },
  {
   "cell_type": "code",
   "execution_count": 67,
   "metadata": {},
   "outputs": [
    {
     "name": "stdout",
     "output_type": "stream",
     "text": [
      "0.7899653522355892\n",
      "0.8276092861023562\n"
     ]
    }
   ],
   "source": [
    "el = ElasticNet(alpha = 1, l1_ratio= 0.9)\n",
    "el.fit(X_train, y_train)\n",
    "\n",
    "ey_pred_train = el.predict(X_train)\n",
    "ey_pred_test = el.predict(X_test)\n",
    "\n",
    "print(el.score(X_train, y_train))\n",
    "print(el.score(X_test, y_test))"
   ]
  },
  {
   "cell_type": "code",
   "execution_count": 68,
   "metadata": {},
   "outputs": [
    {
     "name": "stdout",
     "output_type": "stream",
     "text": [
      "R-squared of the model in the training set is: 0.7899653522355892\n",
      "-----Test set statistics-----\n",
      "R-squared of the model in the test set is: 0.8276092861023562\n",
      "Mean absolute error of the prediction is: 22709.69463062451\n",
      "Mean squared error of the prediction is: 1096940008.5803418\n",
      "Root mean squared error of the prediction is: 33120.084670488715\n",
      "Mean absolute percentage error of the prediction is: 13.384101859635205\n"
     ]
    }
   ],
   "source": [
    "print(\"R-squared of the model in the training set is: {}\".format(el.score(X_train, y_train)))\n",
    "print(\"-----Test set statistics-----\")\n",
    "print(\"R-squared of the model in the test set is: {}\".format(el.score(X_test, y_test)))\n",
    "print(\"Mean absolute error of the prediction is: {}\".format(mean_absolute_error(y_test, ey_pred_test)))\n",
    "print(\"Mean squared error of the prediction is: {}\".format(mse(y_test, ey_pred_test)))\n",
    "print(\"Root mean squared error of the prediction is: {}\".format(rmse(y_test, ey_pred_test)))\n",
    "print(\"Mean absolute percentage error of the prediction is: {}\".format(np.mean(np.abs((y_test - ey_pred_test) / y_test)) * 100))"
   ]
  },
  {
   "cell_type": "code",
   "execution_count": 62,
   "metadata": {},
   "outputs": [
    {
     "name": "stdout",
     "output_type": "stream",
     "text": [
      "0.7459959117969756\n",
      "1\n",
      "0.9\n"
     ]
    }
   ],
   "source": [
    "tuned_param = [{'alpha' : [1, 5, 10, 50, 100, 1000, 10000, 100000],\n",
    "               'l1_ratio' : [0.1, 0.3, 0.5, 0.7, 0.9]}]\n",
    "clf2 = GridSearchCV(ElasticNet(), param_grid = tuned_param, cv = 5)\n",
    "clf2.fit(X_train, y_train)\n",
    "print(clf2.best_score_)\n",
    "print(clf2.best_estimator_.alpha)\n",
    "print(clf2.best_estimator_.l1_ratio)"
   ]
  }
 ],
 "metadata": {
  "kernelspec": {
   "display_name": "Python 3",
   "language": "python",
   "name": "python3"
  },
  "language_info": {
   "codemirror_mode": {
    "name": "ipython",
    "version": 3
   },
   "file_extension": ".py",
   "mimetype": "text/x-python",
   "name": "python",
   "nbconvert_exporter": "python",
   "pygments_lexer": "ipython3",
   "version": "3.6.4"
  }
 },
 "nbformat": 4,
 "nbformat_minor": 2
}
